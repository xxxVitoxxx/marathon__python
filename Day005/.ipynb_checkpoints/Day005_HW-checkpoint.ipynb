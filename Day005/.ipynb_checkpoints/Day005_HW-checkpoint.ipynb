{
 "cells": [
  {
   "cell_type": "markdown",
   "metadata": {},
   "source": [
    "API 資料串接 - 以 Dcard API 實作範例\n",
    "了解 Dcard API 使用方式與回傳內容\n",
    "撰寫程式存取 API 且解析 JSON 格式資料\n",
    "作業目標\n",
    "請利用 API: https://www.dcard.tw/_api/forums/pet/posts?popular=true 回答下列問題：\n",
    "這個 API 一次會回傳幾筆資料？每一筆資料包含哪些欄位？\n",
    "取出每一筆資料的「標題」、「貼文時間」、「留言人數」、「按讚人數」\n",
    "計算熱門/非熱門文章的「平均留言人數」與「平均按讚人數」"
   ]
  },
  {
   "cell_type": "code",
   "execution_count": 81,
   "metadata": {},
   "outputs": [],
   "source": [
    "# requests\n",
    "import requests\n",
    "response = requests.get('https://www.dcard.tw/_api/forums/pet/posts?popular=true')"
   ]
  },
  {
   "cell_type": "code",
   "execution_count": 82,
   "metadata": {},
   "outputs": [
    {
     "name": "stdout",
     "output_type": "stream",
     "text": [
      "一次回傳30筆\n",
      "每一筆資料包含以下這些欄位:\n",
      "id\n",
      "title\n",
      "excerpt\n",
      "anonymousSchool\n",
      "anonymousDepartment\n",
      "pinned\n",
      "forumId\n",
      "replyId\n",
      "createdAt\n",
      "updatedAt\n",
      "commentCount\n",
      "likeCount\n",
      "withNickname\n",
      "tags\n",
      "topics\n",
      "meta\n",
      "forumName\n",
      "forumAlias\n",
      "nsfw\n",
      "gender\n",
      "school\n",
      "replyTitle\n",
      "mediaMeta\n",
      "reactions\n",
      "hidden\n",
      "customStyle\n",
      "isSuspiciousAccount\n",
      "isModerator\n",
      "layout\n",
      "spoilerAlert\n",
      "categories\n",
      "withImages\n",
      "withVideos\n",
      "media\n",
      "reportReasonText\n",
      "excerptComments\n",
      "postAvatar\n",
      "verifiedBadge\n",
      "memberType\n"
     ]
    }
   ],
   "source": [
    "# 1. 這個 API 一次會回傳幾筆資料？每一筆資料包含哪些欄位？\n",
    "import json\n",
    "data = json.loads(response.text)\n",
    "\n",
    "print('一次回傳{}筆'.format(len(data)))\n",
    "print('每一筆資料包含以下這些欄位:')\n",
    "#data[0] # 第一筆資料\n",
    "for i in data[0]:\n",
    "    print(i)\n"
   ]
  },
  {
   "cell_type": "code",
   "execution_count": 83,
   "metadata": {},
   "outputs": [
    {
     "name": "stdout",
     "output_type": "stream",
     "text": [
      "[{'title': '#二更 #黑特 盜圖超雷寵物攝影', 'createdAt': '2021-04-28T02:55:34.852Z', 'commentCount': 90, 'likeCount': 638}, {'title': '貓咪 養在房間', 'createdAt': '2021-04-28T02:00:21.225Z', 'commentCount': 55, 'likeCount': 489}, {'title': '覺得自己是嬰兒的貓貓', 'createdAt': '2021-04-28T03:48:53.117Z', 'commentCount': 12, 'likeCount': 307}, {'title': '#影 不能吃太胖喔 會被殺掉的', 'createdAt': '2021-04-28T08:54:01.339Z', 'commentCount': 8, 'likeCount': 167}, {'title': '貓ㄉ100種形狀', 'createdAt': '2021-04-28T16:10:33.342Z', 'commentCount': 27, 'likeCount': 152}, {'title': '#問 這是混暹羅還是布偶', 'createdAt': '2021-04-28T03:27:07.187Z', 'commentCount': 14, 'likeCount': 145}, {'title': '#詢問 狗園會需要生肉嗎', 'createdAt': '2021-04-28T12:07:06.005Z', 'commentCount': 14, 'likeCount': 137}, {'title': '我的手手就是這麼短！🐈', 'createdAt': '2021-04-28T09:41:42.747Z', 'commentCount': 7, 'likeCount': 69}, {'title': '自家貓貓厭世表情包🤣', 'createdAt': '2021-04-28T19:27:28.696Z', 'commentCount': 8, 'likeCount': 51}, {'title': '少了蛋蛋之力', 'createdAt': '2021-04-28T14:19:00.792Z', 'commentCount': 4, 'likeCount': 51}, {'title': '買了個貓跳台', 'createdAt': '2021-04-29T03:32:57.427Z', 'commentCount': 8, 'likeCount': 44}, {'title': '大量貓貓照‼️小心‼️心臟爆擊', 'createdAt': '2021-04-28T16:06:19.680Z', 'commentCount': 2, 'likeCount': 39}, {'title': '#圖多 黑貓🐈\\u200d⬛米咪的寵物溝通初體驗', 'createdAt': '2021-04-28T07:43:58.026Z', 'commentCount': 21, 'likeCount': 38}, {'title': '🌟雲林/嘉義🌟貓咪送養', 'createdAt': '2021-04-28T13:08:31.804Z', 'commentCount': 6, 'likeCount': 35}, {'title': '跟我一樣扁臉控的舉手😀', 'createdAt': '2021-04-28T18:14:11.455Z', 'commentCount': 8, 'likeCount': 28}, {'title': '被罰站的的狗狗', 'createdAt': '2021-04-28T15:35:32.471Z', 'commentCount': 4, 'likeCount': 25}, {'title': '想請大家幫我評估這樣適不適合養貓？', 'createdAt': '2021-04-28T12:41:54.983Z', 'commentCount': 27, 'likeCount': 24}, {'title': '#分享 #問卷 和小賓士貓相遇過程', 'createdAt': '2021-04-28T21:56:59.117Z', 'commentCount': 6, 'likeCount': 21}, {'title': '#問 幼貓的體力都這麼好嗎', 'createdAt': '2021-04-28T18:04:16.738Z', 'commentCount': 9, 'likeCount': 19}, {'title': '哈囉 接一下球口以嗎😌', 'createdAt': '2021-04-28T15:59:39.501Z', 'commentCount': 3, 'likeCount': 19}, {'title': '大家會怎麼面對這樣的事呢？', 'createdAt': '2021-04-28T04:54:02.595Z', 'commentCount': 3, 'likeCount': 19}, {'title': '犀角金龜來了', 'createdAt': '2021-04-28T20:08:11.830Z', 'commentCount': 5, 'likeCount': 13}, {'title': '寵物刺青會影響找工作嗎', 'createdAt': '2021-04-28T02:32:49.733Z', 'commentCount': 9, 'likeCount': 12}, {'title': '來蓋樓 大家一個月平均花多少錢在寵物身上?', 'createdAt': '2021-04-29T06:28:18.023Z', 'commentCount': 10, 'likeCount': 11}, {'title': '曬貓曬貓🐱', 'createdAt': '2021-04-28T04:50:36.624Z', 'commentCount': 2, 'likeCount': 11}, {'title': '兔子疥癬問題', 'createdAt': '2021-04-28T16:24:58.309Z', 'commentCount': 27, 'likeCount': 10}, {'title': '小心惡犬！男騎車載3歲兒遭狗追\\u3000失控衝對向撞轎車', 'createdAt': '2021-04-28T13:25:36.707Z', 'commentCount': 0, 'likeCount': 10}, {'title': '怎麼辦 魚身上起這個氣泡 有沒有什麼簡易的方式可以處理😱', 'createdAt': '2021-04-28T16:17:57.760Z', 'commentCount': 4, 'likeCount': 9}, {'title': '轉：#台南 二更 我被老闆性騷擾', 'createdAt': '2021-04-28T13:19:29.652Z', 'commentCount': 0, 'likeCount': 8}, {'title': '飼料偷偷留給愛媽會不會不好？🙈', 'createdAt': '2021-04-29T02:53:23.449Z', 'commentCount': 5, 'likeCount': 7}]\n"
     ]
    }
   ],
   "source": [
    "# 2. 取出每一筆資料的「標題」、「貼文時間」、「留言人數」、「按讚人數」\n",
    "\n",
    "\n",
    "alist = []\n",
    "for i in data:\n",
    "    dic = {}\n",
    "    dic['title'] = i['title']\n",
    "    dic['createdAt'] = i['createdAt']\n",
    "    dic['commentCount'] = i['commentCount']\n",
    "    dic['likeCount'] = i['likeCount']\n",
    "    alist.append(dic)\n",
    "    \n",
    "print(alist)    "
   ]
  },
  {
   "cell_type": "code",
   "execution_count": 84,
   "metadata": {},
   "outputs": [
    {
     "name": "stdout",
     "output_type": "stream",
     "text": [
      "熱門平均留言人數13.266666666666667\n",
      "熱門平均按讚人數86.93333333333334\n"
     ]
    },
    {
     "data": {
      "text/plain": [
       "398"
      ]
     },
     "execution_count": 84,
     "metadata": {},
     "output_type": "execute_result"
    }
   ],
   "source": [
    "# 3. 計算熱門的「平均留言人數」與「平均按讚人數」\n",
    "average_comment = 0\n",
    "average_like = 0\n",
    "\n",
    "for i in data:\n",
    "    average_comment += i['commentCount']\n",
    "    average_like += i['likeCount']\n",
    "print('熱門平均留言人數{}'.format(average_comment/len(data)))\n",
    "print('熱門平均按讚人數{}'.format(average_like/len(data)))\n",
    "average_comment"
   ]
  },
  {
   "cell_type": "code",
   "execution_count": 86,
   "metadata": {},
   "outputs": [
    {
     "name": "stdout",
     "output_type": "stream",
     "text": [
      "非熱門平均留言人數3.933333333333333\n",
      "非熱門平均按讚人數8.266666666666667\n"
     ]
    },
    {
     "data": {
      "text/plain": [
       "118"
      ]
     },
     "execution_count": 86,
     "metadata": {},
     "output_type": "execute_result"
    }
   ],
   "source": [
    "# 3. 計算非熱門熱門的「平均留言人數」與「平均按讚人數」\n",
    "response_false = requests.get('https://www.dcard.tw/_api/forums/pet/posts?popular=false')\n",
    "data_false = json.loads(response_false.text)\n",
    "\n",
    "not_average_comment = 0\n",
    "not_average_like = 0\n",
    "\n",
    "for i in data_false:\n",
    "    not_average_comment += i['commentCount']\n",
    "    not_average_like += i['likeCount']\n",
    "print('非熱門平均留言人數{}'.format(not_average_comment/len(data_false)))\n",
    "print('非熱門平均按讚人數{}'.format(not_average_like/len(data_false)))\n",
    "not_average_comment"
   ]
  },
  {
   "cell_type": "code",
   "execution_count": null,
   "metadata": {},
   "outputs": [],
   "source": []
  },
  {
   "cell_type": "code",
   "execution_count": null,
   "metadata": {},
   "outputs": [],
   "source": []
  }
 ],
 "metadata": {
  "kernelspec": {
   "display_name": "Python 3",
   "language": "python",
   "name": "python3"
  },
  "language_info": {
   "codemirror_mode": {
    "name": "ipython",
    "version": 3
   },
   "file_extension": ".py",
   "mimetype": "text/x-python",
   "name": "python",
   "nbconvert_exporter": "python",
   "pygments_lexer": "ipython3",
   "version": "3.8.5"
  }
 },
 "nbformat": 4,
 "nbformat_minor": 4
}
