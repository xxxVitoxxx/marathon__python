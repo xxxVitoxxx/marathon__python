{
 "cells": [
  {
   "cell_type": "markdown",
   "metadata": {},
   "source": [
    "認識靜態網頁的溝通架構與運作原理\n",
    "HTML、CSS、JavaScript 在網頁中扮演的角色\n",
    "網頁中定位資料的方法\n",
    "作業目標\n",
    "（簡答題）請問目前提到的這種基於 HTTP 一來一回的網頁傳輸方式，有哪些缺點及問題？\n",
    "（簡答題）網頁中使用的 JavaScipt 程式語言，跟我們一般使用的 Python 在執行上有什麼不同。\n",
    "1.（簡答題）請問目前提到的這種基於 HTTP 一來一回的網頁傳輸方式，有哪些缺點及問題？"
   ]
  },
  {
   "cell_type": "code",
   "execution_count": null,
   "metadata": {},
   "outputs": [],
   "source": [
    "# 無法對整體進行加密<可能會被竊取。\n",
    "# 即時互動的話，對伺服器壓力較大。\n",
    "# 資料包龐大"
   ]
  },
  {
   "cell_type": "markdown",
   "metadata": {},
   "source": [
    "2. （簡答題）網頁中使用的 JavaScipt 程式語言，跟我們一般使用的 Python 在執行上有什麼不同。"
   ]
  },
  {
   "cell_type": "code",
   "execution_count": null,
   "metadata": {},
   "outputs": [],
   "source": [
    "# JavaScript是執行在瀏覽器上，Python是"
   ]
  }
 ],
 "metadata": {
  "kernelspec": {
   "display_name": "Python 3",
   "language": "python",
   "name": "python3"
  },
  "language_info": {
   "codemirror_mode": {
    "name": "ipython",
    "version": 3
   },
   "file_extension": ".py",
   "mimetype": "text/x-python",
   "name": "python",
   "nbconvert_exporter": "python",
   "pygments_lexer": "ipython3",
   "version": "3.8.5"
  }
 },
 "nbformat": 4,
 "nbformat_minor": 4
}
